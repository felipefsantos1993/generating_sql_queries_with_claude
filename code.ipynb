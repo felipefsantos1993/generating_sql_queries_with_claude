{
 "cells": [
  {
   "cell_type": "code",
   "execution_count": null,
   "id": "6920cd4a",
   "metadata": {},
   "outputs": [],
   "source": [
    "pip install --upgrade pip\n",
    "pip install openai"
   ]
  },
  {
   "cell_type": "code",
   "execution_count": null,
   "id": "cb38b57b",
   "metadata": {},
   "outputs": [],
   "source": [
    "from openai import OpenAI\n",
    "import os"
   ]
  },
  {
   "cell_type": "code",
   "execution_count": null,
   "id": "fd702b14",
   "metadata": {},
   "outputs": [],
   "source": [
    "nome_tabela = \"YourCatalog.YourSchema.YourTableName\"\n",
    "pergunta = \"YourQuestion\""
   ]
  },
  {
   "cell_type": "code",
   "execution_count": null,
   "id": "05aca0eb",
   "metadata": {},
   "outputs": [],
   "source": [
    "def gerar_estrutura_tabela_string(tabela):\n",
    "    schema = spark.sql(\"DESCRIBE \" + tabela)\n",
    "    schema = schema.filter(schema['col_name'].isNotNull())\n",
    "    colunas_descricao = [\n",
    "        f\"{row['col_name']} ({row['data_type']}): {row['comment'] or 'Sem descrição'}\"\n",
    "        for row in schema.collect()\n",
    "    ]\n",
    "    estrutura = \"\\n\".join(colunas_descricao)\n",
    "    return estrutura"
   ]
  },
  {
   "cell_type": "code",
   "execution_count": null,
   "id": "c00635af",
   "metadata": {},
   "outputs": [],
   "source": [
    "def gerar_sql_com_claude(pergunta, estrutura, nome_tabela):\n",
    "    prompt = f\"\"\"\n",
    "Você é um assistente de dados. A tabela `{nome_tabela}` possui a seguinte estrutura:\n",
    "{estrutura}\n",
    "Com base nisso, gere uma query SQL Spark para responder à pergunta abaixo.\n",
    "Pergunta: {pergunta}\n",
    "Apenas retorne a query SQL. Não explique.\n",
    "\"\"\"\n",
    "    client = OpenAI(\n",
    "    api_key='YourAPIkey',\n",
    "    base_url=\"https://YourWorkspace.azuredatabricks.net/serving-endpoints\"\n",
    "    )\n",
    "    response = client.chat.completions.create(\n",
    "    model=\"databricks-claude-3-7-sonnet\",\n",
    "    messages=[\n",
    "        {\n",
    "            \"role\": \"user\",\n",
    "            \"content\": prompt\n",
    "        }\n",
    "    ]\n",
    "    )\n",
    "    return response.choices[0].message.content"
   ]
  },
  {
   "cell_type": "code",
   "execution_count": null,
   "id": "b393db2f",
   "metadata": {},
   "outputs": [],
   "source": [
    "sql_gerada = gerar_sql_com_claude(pergunta, estrutura, tabela).replace('```sql\\n','').replace('```','').strip()\n",
    "print(\"SQL gerada:\")\n",
    "print(sql_gerada)\n",
    "df = spark.sql(sql_gerada)\n",
    "df.display()"
   ]
  }
 ],
 "metadata": {
  "kernelspec": {
   "display_name": "Python 3",
   "language": "python",
   "name": "python3"
  },
  "language_info": {
   "codemirror_mode": {
    "name": "ipython",
    "version": 3
   },
   "file_extension": ".py",
   "mimetype": "text/x-python",
   "name": "python",
   "nbconvert_exporter": "python",
   "pygments_lexer": "ipython3",
   "version": "3.12.8"
  }
 },
 "nbformat": 4,
 "nbformat_minor": 5
}
